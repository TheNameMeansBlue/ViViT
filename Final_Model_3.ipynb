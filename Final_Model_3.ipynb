{
  "cells": [
    {
      "cell_type": "markdown",
      "metadata": {
        "id": "5aj5VLnAJ9vR"
      },
      "source": [
        "## Imports"
      ]
    },
    {
      "cell_type": "code",
      "execution_count": null,
      "metadata": {
        "id": "IjxxwHDEJ9vS"
      },
      "outputs": [],
      "source": [
        "import os\n",
        "import io\n",
        "import imageio\n",
        "import ipywidgets\n",
        "import numpy as np\n",
        "import tensorflow as tf\n",
        "from tensorflow import keras\n",
        "from tensorflow.keras import layers\n",
        "import pandas as pd\n",
        "\n",
        "# Setting seed for reproducibility\n",
        "SEED = 42\n",
        "os.environ[\"TF_CUDNN_DETERMINISTIC\"] = \"1\"\n",
        "keras.utils.set_random_seed(SEED)"
      ]
    },
    {
      "cell_type": "markdown",
      "metadata": {
        "id": "Q0LNqueTJ9vZ"
      },
      "source": [
        "## Train"
      ]
    },
    {
      "cell_type": "code",
      "source": [
        "!pip install -qq medmnist"
      ],
      "metadata": {
        "colab": {
          "base_uri": "https://localhost:8080/"
        },
        "id": "Uqv-ivkEFUaA",
        "outputId": "03786cbb-d5cc-4e56-c524-9f48e26af1a8"
      },
      "execution_count": null,
      "outputs": [
        {
          "output_type": "stream",
          "name": "stdout",
          "text": [
            "\u001b[?25l     \u001b[90m━━━━━━━━━━━━━━━━━━━━━━━━━━━━━━━━━━━━━━━━\u001b[0m \u001b[32m0.0/88.3 kB\u001b[0m \u001b[31m?\u001b[0m eta \u001b[36m-:--:--\u001b[0m\r\u001b[2K     \u001b[90m━━━━━━━━━━━━━━━━━━━━━━━━━━━━━━━━━━━━━━━━\u001b[0m \u001b[32m88.3/88.3 kB\u001b[0m \u001b[31m4.4 MB/s\u001b[0m eta \u001b[36m0:00:00\u001b[0m\n",
            "\u001b[?25h  Preparing metadata (setup.py) ... \u001b[?25l\u001b[?25hdone\n",
            "  Building wheel for fire (setup.py) ... \u001b[?25l\u001b[?25hdone\n"
          ]
        }
      ]
    },
    {
      "cell_type": "code",
      "execution_count": null,
      "metadata": {
        "id": "hQTdsiTHJ9vZ"
      },
      "outputs": [],
      "source": [
        "\n",
        "# def run_experiment():\n",
        "#     # Initialize model\n",
        "#     model = create_vivit_classifier_model3(\n",
        "#         tubelet_embedder=TubeletEmbeddingModel3(\n",
        "#             embed_dim=PROJECTION_DIM, patch_size=PATCH_SIZE\n",
        "#         ),\n",
        "#         positional_encoder=PositionalEncoderModel3(embed_dim=PROJECTION_DIM),\n",
        "#     )\n",
        "\n",
        "#     # Compile the model with the optimizer, loss function\n",
        "#     # and the metrics.\n",
        "#     optimizer = keras.optimizers.Adam(learning_rate=LEARNING_RATE)\n",
        "#     model.compile(\n",
        "#         optimizer=optimizer,\n",
        "#         loss=\"sparse_categorical_crossentropy\",\n",
        "#         metrics=[\n",
        "#             keras.metrics.SparseCategoricalAccuracy(name=\"accuracy\"),\n",
        "#             keras.metrics.SparseTopKCategoricalAccuracy(5, name=\"top-5-accuracy\"),\n",
        "#         ],\n",
        "#     )\n",
        "\n",
        "#     # Train the model.\n",
        "#     _ = model.fit(trainloader, epochs=EPOCHS, validation_data=validloader)\n",
        "\n",
        "#     _, accuracy, top_5_accuracy = model.evaluate(testloader)\n",
        "#     print(f\"Test accuracy: {round(accuracy * 100, 2)}%\")\n",
        "#     print(f\"Test top 5 accuracy: {round(top_5_accuracy * 100, 2)}%\")\n",
        "\n",
        "#     return model\n",
        "\n",
        "\n",
        "# # model = run_experiment()"
      ]
    },
    {
      "cell_type": "code",
      "source": [
        "#MED MNIST\n",
        "import medmnist\n",
        "\n",
        "# DATA\n",
        "DATASET_NAME = \"organmnist3d\"\n",
        "BATCH_SIZE = 32\n",
        "AUTO = tf.data.AUTOTUNE\n",
        "INPUT_SHAPE = (28, 28, 28, 1)\n",
        "NUM_CLASSES = 11\n",
        "\n",
        "# OPTIMIZER\n",
        "LEARNING_RATE = 1e-4\n",
        "WEIGHT_DECAY = 1e-5\n",
        "\n",
        "# TRAINING\n",
        "EPOCHS = 60\n",
        "\n",
        "# TUBELET EMBEDDING\n",
        "PATCH_SIZE = (8, 8, 8)\n",
        "NUM_PATCHES = (INPUT_SHAPE[0] // PATCH_SIZE[0]) ** 2\n",
        "\n",
        "# ViViT ARCHITECTURE\n",
        "LAYER_NORM_EPS = 1e-6\n",
        "PROJECTION_DIM = 128\n",
        "NUM_HEADS = 8\n",
        "NUM_LAYERS = 8"
      ],
      "metadata": {
        "id": "MqIrnvmAFLR_"
      },
      "execution_count": null,
      "outputs": []
    },
    {
      "cell_type": "code",
      "source": [
        "\n",
        "class TubeletEmbeddingModel3(layers.Layer):\n",
        "    def __init__(self, embed_dim, patch_size, **kwargs):\n",
        "        super().__init__(**kwargs)\n",
        "        self.projection = layers.Conv3D(\n",
        "            filters=embed_dim,\n",
        "            kernel_size=patch_size,\n",
        "            strides=patch_size,\n",
        "            padding=\"VALID\",\n",
        "        )\n",
        "        self.flatten = layers.Reshape(target_shape=(-1, embed_dim))\n",
        "\n",
        "    def call(self, videos):\n",
        "        projected_patches = self.projection(videos)\n",
        "        # flattened_patches = self.flatten(projected_patches)\n",
        "        return projected_patches\n",
        "\n",
        "\n",
        "\n",
        "class PositionalEncoderModel3(layers.Layer):\n",
        "    def __init__(self, embed_dim, **kwargs):\n",
        "        super().__init__(**kwargs)\n",
        "        self.embed_dim = embed_dim\n",
        "\n",
        "    def build(self, input_shape):\n",
        "        _, _, num_tokens, _ = input_shape\n",
        "        self.position_embedding = layers.Embedding(\n",
        "            input_dim=num_tokens, output_dim=self.embed_dim\n",
        "        )\n",
        "        self.positions = tf.range(start=0, limit=num_tokens, delta=1)\n",
        "\n",
        "    def call(self, encoded_tokens):\n",
        "        # Encode the positions and add it to the encoded tokens\n",
        "        encoded_positions = self.position_embedding(self.positions)\n",
        "        encoded_tokens = encoded_tokens + encoded_positions\n",
        "        return encoded_tokens\n",
        "\n",
        "\n",
        "\n",
        "def create_vivit_classifier_model3(\n",
        "    tubelet_embedder,\n",
        "    positional_encoder,\n",
        "    input_shape=INPUT_SHAPE,\n",
        "    transformer_layers=NUM_LAYERS,\n",
        "    num_heads=NUM_HEADS,\n",
        "    embed_dim=PROJECTION_DIM,\n",
        "    layer_norm_eps=LAYER_NORM_EPS,\n",
        "    num_classes=NUM_CLASSES,\n",
        "):\n",
        "\n",
        "    # print(f\"Input shape:{input_shape}\")\n",
        "    inputs = layers.Input(shape=input_shape)\n",
        "\n",
        "    # Create patches.\n",
        "    patches = tubelet_embedder(inputs)\n",
        "    # print(f\"patches shape:{patches.shape}\")\n",
        "\n",
        "    #dimensions\n",
        "    batch_size, num_tokens_along_time, num_tokens_along_height, num_tokens_along_width, token_dim = patches.shape\n",
        "\n",
        "    patches = layers.Reshape((num_tokens_along_time, num_tokens_along_height * num_tokens_along_width, token_dim))(patches)\n",
        "    \n",
        "    # print(f\"patches shape:{patches.shape}\")\n",
        "    \n",
        "    # Encode patches.\n",
        "    encoded_patches = positional_encoder(patches)\n",
        " \n",
        "    # Create multiple layers of the Transformer block.\n",
        "    for _ in range(transformer_layers):\n",
        "        # Layer normalization and MHSA\n",
        "        # print(f\"Spatial Input shape:{encoded_patches.shape}\")\n",
        "        x1 = layers.LayerNormalization(epsilon=1e-6)(encoded_patches)\n",
        "        attention_output = layers.MultiHeadAttention(\n",
        "            num_heads=num_heads, key_dim=embed_dim // num_heads, dropout=0.1\n",
        "        )(x1, x1)\n",
        "\n",
        "        # Skip connection\n",
        "        x2 = layers.Add()([attention_output, encoded_patches])\n",
        "\n",
        "        # Temporal Attention\n",
        "        x_temp = layers.Permute((2, 1, 3))(x2)\n",
        "        # print(f\"Temporal_input shape:{x_temp.shape}\")\n",
        "\n",
        "\n",
        "        x_temp1 = layers.LayerNormalization(epsilon=1e-6)(x_temp)\n",
        "        attention_output_temp = layers.MultiHeadAttention(\n",
        "            num_heads=num_heads, key_dim=embed_dim // num_heads, dropout=0.1\n",
        "        )(x_temp1, x_temp1)\n",
        "\n",
        "        # Skip connection\n",
        "        x_temp2 = layers.Add()([attention_output_temp, x_temp])\n",
        "\n",
        "\n",
        "        # Layer Normalization and MLP\n",
        "        x3 = layers.LayerNormalization(epsilon=1e-6)(x_temp2)\n",
        "        x3 = keras.Sequential(\n",
        "            [\n",
        "                layers.Dense(units=embed_dim * 4, activation=tf.nn.gelu),\n",
        "                layers.Dense(units=embed_dim, activation=tf.nn.gelu),\n",
        "            ]\n",
        "        )(x3)\n",
        "\n",
        "        # Skip connection\n",
        "        encoded_patches = layers.Add()([x3, x_temp2])\n",
        "        encoded_patches = layers.Permute((2, 1, 3))(encoded_patches)\n",
        "    # print(f\"AttentionBlocks output shape:{encoded_patches.shape}\")\n",
        "\n",
        "    encoded_patches = layers.Reshape(target_shape=(-1, embed_dim))(encoded_patches)\n",
        "\n",
        "    # Layer normalization and Global average pooling.\n",
        "    representation = layers.LayerNormalization(epsilon=layer_norm_eps)(encoded_patches)\n",
        "    representation = layers.GlobalAvgPool1D()(representation)\n",
        "\n",
        "    # Classify outputs.\n",
        "    outputs = layers.Dense(units=num_classes, activation=\"softmax\")(representation)\n",
        "\n",
        "    # Create the Keras model.\n",
        "    model = keras.Model(inputs=inputs, outputs=outputs)\n",
        "    return model\n"
      ],
      "metadata": {
        "id": "QjgLSCneL62u"
      },
      "execution_count": null,
      "outputs": []
    },
    {
      "cell_type": "code",
      "source": [
        "\n",
        "def download_and_prepare_dataset(data_info: dict):\n",
        "    \"\"\"Utility function to download the dataset.\n",
        "\n",
        "    Arguments:\n",
        "        data_info (dict): Dataset metadata.\n",
        "    \"\"\"\n",
        "    data_path = keras.utils.get_file(origin=data_info[\"url\"], md5_hash=data_info[\"MD5\"])\n",
        "\n",
        "    with np.load(data_path) as data:\n",
        "        # Get videos\n",
        "        train_videos = data[\"train_images\"]\n",
        "        valid_videos = data[\"val_images\"]\n",
        "        test_videos = data[\"test_images\"]\n",
        "\n",
        "        # Get labels\n",
        "        train_labels = data[\"train_labels\"].flatten()\n",
        "        valid_labels = data[\"val_labels\"].flatten()\n",
        "        test_labels = data[\"test_labels\"].flatten()\n",
        "\n",
        "    return (\n",
        "        (train_videos, train_labels),\n",
        "        (valid_videos, valid_labels),\n",
        "        (test_videos, test_labels),\n",
        "    )\n",
        "\n",
        "\n",
        "# Get the metadata of the dataset\n",
        "info = medmnist.INFO[DATASET_NAME]\n",
        "\n",
        "# Get the dataset\n",
        "prepared_dataset = download_and_prepare_dataset(info)\n",
        "(train_videos, train_labels) = prepared_dataset[0]\n",
        "(valid_videos, valid_labels) = prepared_dataset[1]\n",
        "(test_videos, test_labels) = prepared_dataset[2]\n",
        "\n",
        "@tf.function\n",
        "def preprocess(frames: tf.Tensor, label: tf.Tensor):\n",
        "    \"\"\"Preprocess the frames tensors and parse the labels.\"\"\"\n",
        "    # Preprocess images\n",
        "    frames = tf.image.convert_image_dtype(\n",
        "        frames[\n",
        "            ..., tf.newaxis\n",
        "        ],  # The new axis is to help for further processing with Conv3D layers\n",
        "        tf.float32,\n",
        "    )\n",
        "    # Parse label\n",
        "    label = tf.cast(label, tf.float32)\n",
        "    return frames, label\n",
        "\n",
        "\n",
        "def prepare_dataloader(\n",
        "    videos: np.ndarray,\n",
        "    labels: np.ndarray,\n",
        "    loader_type: str = \"train\",\n",
        "    batch_size: int = BATCH_SIZE,\n",
        "):\n",
        "    \"\"\"Utility function to prepare the dataloader.\"\"\"\n",
        "    dataset = tf.data.Dataset.from_tensor_slices((videos, labels))\n",
        "\n",
        "    if loader_type == \"train\":\n",
        "        dataset = dataset.shuffle(BATCH_SIZE * 2)\n",
        "\n",
        "    dataloader = (\n",
        "        dataset.map(preprocess, num_parallel_calls=tf.data.AUTOTUNE)\n",
        "        .batch(batch_size)\n",
        "        .prefetch(tf.data.AUTOTUNE)\n",
        "    )\n",
        "    return dataloader\n",
        "\n",
        "\n",
        "trainloader = prepare_dataloader(train_videos, train_labels, \"train\")\n",
        "validloader = prepare_dataloader(valid_videos, valid_labels, \"valid\")\n",
        "testloader = prepare_dataloader(test_videos, test_labels, \"test\")"
      ],
      "metadata": {
        "colab": {
          "base_uri": "https://localhost:8080/"
        },
        "id": "YTiV0dIwFPDo",
        "outputId": "67f40c30-a880-47df-b984-875fd473eb07"
      },
      "execution_count": null,
      "outputs": [
        {
          "output_type": "stream",
          "name": "stdout",
          "text": [
            "Downloading data from https://zenodo.org/record/6496656/files/organmnist3d.npz?download=1\n",
            "32657407/32657407 [==============================] - 10s 0us/step\n"
          ]
        }
      ]
    },
    {
      "cell_type": "code",
      "source": [
        "\n",
        "class TubeletEmbeddingModel3(layers.Layer):\n",
        "    def __init__(self, embed_dim, patch_size, **kwargs):\n",
        "        super().__init__(**kwargs)\n",
        "        self.projection = layers.Conv3D(\n",
        "            filters=embed_dim,\n",
        "            kernel_size=patch_size,\n",
        "            strides=patch_size,\n",
        "            padding=\"VALID\",\n",
        "        )\n",
        "        self.flatten = layers.Reshape(target_shape=(-1, embed_dim))\n",
        "\n",
        "    def call(self, videos):\n",
        "        projected_patches = self.projection(videos)\n",
        "        # flattened_patches = self.flatten(projected_patches)\n",
        "        return projected_patches\n",
        "\n",
        "\n",
        "\n",
        "class PositionalEncoderModel3(layers.Layer):\n",
        "    def __init__(self, embed_dim, **kwargs):\n",
        "        super().__init__(**kwargs)\n",
        "        self.embed_dim = embed_dim\n",
        "\n",
        "    def build(self, input_shape):\n",
        "        _, _, num_tokens, _ = input_shape\n",
        "        self.position_embedding = layers.Embedding(\n",
        "            input_dim=num_tokens, output_dim=self.embed_dim\n",
        "        )\n",
        "        self.positions = tf.range(start=0, limit=num_tokens, delta=1)\n",
        "\n",
        "    def call(self, encoded_tokens):\n",
        "        # Encode the positions and add it to the encoded tokens\n",
        "        encoded_positions = self.position_embedding(self.positions)\n",
        "        encoded_tokens = encoded_tokens + encoded_positions\n",
        "        return encoded_tokens\n",
        "\n",
        "\n",
        "\n",
        "def create_vivit_classifier_model3(\n",
        "    tubelet_embedder,\n",
        "    positional_encoder,\n",
        "    input_shape=INPUT_SHAPE,\n",
        "    transformer_layers=NUM_LAYERS,\n",
        "    num_heads=NUM_HEADS,\n",
        "    embed_dim=PROJECTION_DIM,\n",
        "    layer_norm_eps=LAYER_NORM_EPS,\n",
        "    num_classes=NUM_CLASSES,\n",
        "):\n",
        "\n",
        "    # print(f\"Input shape:{input_shape}\")\n",
        "    inputs = layers.Input(shape=input_shape)\n",
        "\n",
        "    # Create patches.\n",
        "    patches = tubelet_embedder(inputs)\n",
        "    # print(f\"patches shape:{patches.shape}\")\n",
        "\n",
        "    #dimensions\n",
        "    batch_size, num_tokens_along_time, num_tokens_along_height, num_tokens_along_width, token_dim = patches.shape\n",
        "\n",
        "    patches = layers.Reshape((num_tokens_along_time, num_tokens_along_height * num_tokens_along_width, token_dim))(patches)\n",
        "    \n",
        "    # print(f\"patches shape:{patches.shape}\")\n",
        "    \n",
        "    # Encode patches.\n",
        "    encoded_patches = positional_encoder(patches)\n",
        " \n",
        "    # Create multiple layers of the Transformer block.\n",
        "    for _ in range(transformer_layers):\n",
        "        # Layer normalization and MHSA\n",
        "        # print(f\"Spatial Input shape:{encoded_patches.shape}\")\n",
        "        x1 = layers.LayerNormalization(epsilon=1e-6)(encoded_patches)\n",
        "        attention_output = layers.MultiHeadAttention(\n",
        "            num_heads=num_heads, key_dim=embed_dim // num_heads, dropout=0.1\n",
        "        )(x1, x1)\n",
        "\n",
        "        # Skip connection\n",
        "        x2 = layers.Add()([attention_output, encoded_patches])\n",
        "\n",
        "        # Temporal Attention\n",
        "        x_temp = layers.Permute((2, 1, 3))(x2)\n",
        "        # print(f\"Temporal_input shape:{x_temp.shape}\")\n",
        "\n",
        "\n",
        "        x_temp1 = layers.LayerNormalization(epsilon=1e-6)(x_temp)\n",
        "        attention_output_temp = layers.MultiHeadAttention(\n",
        "            num_heads=num_heads, key_dim=embed_dim // num_heads, dropout=0.1\n",
        "        )(x_temp1, x_temp1)\n",
        "\n",
        "        # Skip connection\n",
        "        x_temp2 = layers.Add()([attention_output_temp, x_temp])\n",
        "\n",
        "\n",
        "        # Layer Normalization and MLP\n",
        "        x3 = layers.LayerNormalization(epsilon=1e-6)(x_temp2)\n",
        "        x3 = keras.Sequential(\n",
        "            [\n",
        "                layers.Dense(units=embed_dim * 4, activation=tf.nn.gelu),\n",
        "                layers.Dense(units=embed_dim, activation=tf.nn.gelu),\n",
        "            ]\n",
        "        )(x3)\n",
        "\n",
        "        # Skip connection\n",
        "        encoded_patches = layers.Add()([x3, x_temp2])\n",
        "        encoded_patches = layers.Permute((2, 1, 3))(encoded_patches)\n",
        "    # print(f\"AttentionBlocks output shape:{encoded_patches.shape}\")\n",
        "\n",
        "    encoded_patches = layers.Reshape(target_shape=(-1, embed_dim))(encoded_patches)\n",
        "\n",
        "    # Layer normalization and Global average pooling.\n",
        "    representation = layers.LayerNormalization(epsilon=layer_norm_eps)(encoded_patches)\n",
        "    representation = layers.GlobalAvgPool1D()(representation)\n",
        "\n",
        "    # Classify outputs.\n",
        "    outputs = layers.Dense(units=num_classes, activation=\"softmax\")(representation)\n",
        "\n",
        "    # Create the Keras model.\n",
        "    model = keras.Model(inputs=inputs, outputs=outputs)\n",
        "    return model\n"
      ],
      "metadata": {
        "id": "-3YtHH6VFZxc"
      },
      "execution_count": null,
      "outputs": []
    },
    {
      "cell_type": "code",
      "source": [
        "!pip install backend\n"
      ],
      "metadata": {
        "colab": {
          "base_uri": "https://localhost:8080/"
        },
        "id": "AAR0WtFrFecP",
        "outputId": "407bcd69-8bb7-4ffb-be2a-11430eef4387"
      },
      "execution_count": null,
      "outputs": [
        {
          "output_type": "stream",
          "name": "stdout",
          "text": [
            "Looking in indexes: https://pypi.org/simple, https://us-python.pkg.dev/colab-wheels/public/simple/\n",
            "Collecting backend\n",
            "  Downloading backend-0.2.4.1.zip (7.8 kB)\n",
            "  Preparing metadata (setup.py) ... \u001b[?25l\u001b[?25hdone\n",
            "Building wheels for collected packages: backend\n",
            "  Building wheel for backend (setup.py) ... \u001b[?25l\u001b[?25hdone\n",
            "  Created wheel for backend: filename=backend-0.2.4.1-py3-none-any.whl size=6423 sha256=29695b3fb976992791b9dcc03ecbaa32c5fcfe7f287a190f13601424ac1cdfbd\n",
            "  Stored in directory: /root/.cache/pip/wheels/42/57/e7/47a2068145b8516ed8c663a4e1cb5ecd617f490c5705d5368a\n",
            "Successfully built backend\n",
            "Installing collected packages: backend\n",
            "Successfully installed backend-0.2.4.1\n"
          ]
        }
      ]
    },
    {
      "cell_type": "code",
      "source": [
        "import keras.backend as K\n",
        "\n",
        "def precision(y_true, y_pred):\n",
        "    \"\"\"Precision metric.\n",
        "    Only computes a batch-wise average of precision.\n",
        "    Computes the precision, a metric for multi-label classification of\n",
        "    how many selected items are relevant.\n",
        "    \"\"\"\n",
        "    true_positives = K.sum(K.round(K.clip(y_true * y_pred, 0, 1)))\n",
        "    predicted_positives = K.sum(K.round(K.clip(y_pred, 0, 1)))\n",
        "    precision = true_positives / (predicted_positives + K.epsilon())\n",
        "    return precision\n",
        "\n",
        "\n",
        "def recall(y_true, y_pred):\n",
        "    \"\"\"Recall metric.\n",
        "    Only computes a batch-wise average of recall.\n",
        "    Computes the recall, a metric for multi-label classification of\n",
        "    how many relevant items are selected.\n",
        "    \"\"\"\n",
        "    true_positives = K.sum(K.round(K.clip(y_true * y_pred, 0, 1)))\n",
        "    possible_positives = K.sum(K.round(K.clip(y_true, 0, 1)))\n",
        "    recall = true_positives / (possible_positives + K.epsilon())\n",
        "    return recall\n",
        "\n",
        "\n",
        "def f1score(y_true, y_pred):\n",
        "    prec = precision(y_true, y_pred)\n",
        "    rec = recall(y_true, y_pred)\n",
        "    return 2*((prec*rec)/(prec+rec+K.epsilon()))"
      ],
      "metadata": {
        "id": "Qhd2gNIEFhcO"
      },
      "execution_count": null,
      "outputs": []
    },
    {
      "cell_type": "code",
      "source": [
        "\n",
        "# Initialize model\n",
        "model = create_vivit_classifier_model3(\n",
        "    tubelet_embedder=TubeletEmbeddingModel3(\n",
        "        embed_dim=PROJECTION_DIM, patch_size=PATCH_SIZE\n",
        "    ),\n",
        "    positional_encoder=PositionalEncoderModel3(embed_dim=PROJECTION_DIM),\n",
        ")\n",
        "\n",
        "# Compile the model with the optimizer, loss function\n",
        "# and the metrics.\n",
        "optimizer = keras.optimizers.Adam(learning_rate=LEARNING_RATE)\n",
        "model.compile(\n",
        "    optimizer=optimizer,\n",
        "    loss=\"sparse_categorical_crossentropy\",\n",
        "    metrics=[\n",
        "        keras.metrics.SparseCategoricalAccuracy(name=\"accuracy\"),\n",
        "        # keras.metrics.SparseTopKCategoricalAccuracy(5, name=\"top-5-accuracy\"),precision,recall,f1score\n",
        "\n",
        "    ],\n",
        ")\n",
        "\n",
        "# Train the model.\n",
        "history = model.fit(trainloader, epochs=EPOCHS, validation_data=validloader)\n",
        "\n",
        "\n",
        "\n"
      ],
      "metadata": {
        "colab": {
          "base_uri": "https://localhost:8080/"
        },
        "id": "SCRCXfufFlxm",
        "outputId": "a18fb9b7-00cc-43f2-a211-203bfcd9684b"
      },
      "execution_count": null,
      "outputs": [
        {
          "output_type": "stream",
          "name": "stdout",
          "text": [
            "Epoch 1/60\n",
            "31/31 [==============================] - 60s 162ms/step - loss: 2.4086 - accuracy: 0.1327 - val_loss: 2.2463 - val_accuracy: 0.1553\n",
            "Epoch 2/60\n",
            "31/31 [==============================] - 2s 68ms/step - loss: 2.1343 - accuracy: 0.1759 - val_loss: 1.8579 - val_accuracy: 0.2422\n",
            "Epoch 3/60\n",
            "31/31 [==============================] - 2s 68ms/step - loss: 1.9739 - accuracy: 0.2449 - val_loss: 1.8361 - val_accuracy: 0.2919\n",
            "Epoch 4/60\n",
            "31/31 [==============================] - 2s 65ms/step - loss: 1.9217 - accuracy: 0.2469 - val_loss: 1.6828 - val_accuracy: 0.3416\n",
            "Epoch 5/60\n",
            "31/31 [==============================] - 3s 95ms/step - loss: 1.8154 - accuracy: 0.2737 - val_loss: 1.5744 - val_accuracy: 0.3975\n",
            "Epoch 6/60\n",
            "31/31 [==============================] - 2s 67ms/step - loss: 1.6980 - accuracy: 0.3354 - val_loss: 1.3828 - val_accuracy: 0.3975\n",
            "Epoch 7/60\n",
            "31/31 [==============================] - 2s 68ms/step - loss: 1.4607 - accuracy: 0.4362 - val_loss: 1.3042 - val_accuracy: 0.4472\n",
            "Epoch 8/60\n",
            "31/31 [==============================] - 2s 68ms/step - loss: 1.3495 - accuracy: 0.4681 - val_loss: 1.1897 - val_accuracy: 0.4907\n",
            "Epoch 9/60\n",
            "31/31 [==============================] - 2s 67ms/step - loss: 1.3346 - accuracy: 0.4866 - val_loss: 1.1200 - val_accuracy: 0.5155\n",
            "Epoch 10/60\n",
            "31/31 [==============================] - 3s 83ms/step - loss: 1.2364 - accuracy: 0.5175 - val_loss: 1.1424 - val_accuracy: 0.5404\n",
            "Epoch 11/60\n",
            "31/31 [==============================] - 2s 68ms/step - loss: 1.2787 - accuracy: 0.4990 - val_loss: 1.1373 - val_accuracy: 0.5404\n",
            "Epoch 12/60\n",
            "31/31 [==============================] - 2s 66ms/step - loss: 1.0776 - accuracy: 0.5710 - val_loss: 0.9781 - val_accuracy: 0.5963\n",
            "Epoch 13/60\n",
            "31/31 [==============================] - 2s 68ms/step - loss: 1.0257 - accuracy: 0.5988 - val_loss: 1.1281 - val_accuracy: 0.5776\n",
            "Epoch 14/60\n",
            "31/31 [==============================] - 3s 84ms/step - loss: 1.0994 - accuracy: 0.5802 - val_loss: 0.7606 - val_accuracy: 0.7578\n",
            "Epoch 15/60\n",
            "31/31 [==============================] - 5s 155ms/step - loss: 0.8975 - accuracy: 0.6574 - val_loss: 0.8705 - val_accuracy: 0.6646\n",
            "Epoch 16/60\n",
            "31/31 [==============================] - 2s 67ms/step - loss: 0.8483 - accuracy: 0.6903 - val_loss: 0.7952 - val_accuracy: 0.7205\n",
            "Epoch 17/60\n",
            "31/31 [==============================] - 2s 68ms/step - loss: 0.9134 - accuracy: 0.6564 - val_loss: 0.6913 - val_accuracy: 0.7453\n",
            "Epoch 18/60\n",
            "31/31 [==============================] - 2s 67ms/step - loss: 0.6828 - accuracy: 0.7541 - val_loss: 0.5349 - val_accuracy: 0.7950\n",
            "Epoch 19/60\n",
            "31/31 [==============================] - 3s 88ms/step - loss: 0.7245 - accuracy: 0.7305 - val_loss: 0.6152 - val_accuracy: 0.7888\n",
            "Epoch 20/60\n",
            "31/31 [==============================] - 2s 67ms/step - loss: 0.6796 - accuracy: 0.7510 - val_loss: 0.5394 - val_accuracy: 0.8385\n",
            "Epoch 21/60\n",
            "31/31 [==============================] - 2s 68ms/step - loss: 0.7355 - accuracy: 0.7356 - val_loss: 0.7171 - val_accuracy: 0.7019\n",
            "Epoch 22/60\n",
            "31/31 [==============================] - 2s 68ms/step - loss: 0.6513 - accuracy: 0.7675 - val_loss: 0.4821 - val_accuracy: 0.8696\n",
            "Epoch 23/60\n",
            "31/31 [==============================] - 3s 93ms/step - loss: 0.5158 - accuracy: 0.8138 - val_loss: 0.4598 - val_accuracy: 0.8758\n",
            "Epoch 24/60\n",
            "31/31 [==============================] - 2s 65ms/step - loss: 0.5658 - accuracy: 0.8004 - val_loss: 0.4206 - val_accuracy: 0.8634\n",
            "Epoch 25/60\n",
            "31/31 [==============================] - 2s 67ms/step - loss: 0.4722 - accuracy: 0.8333 - val_loss: 0.4254 - val_accuracy: 0.8820\n",
            "Epoch 26/60\n",
            "31/31 [==============================] - 2s 68ms/step - loss: 0.4198 - accuracy: 0.8416 - val_loss: 0.5143 - val_accuracy: 0.8509\n",
            "Epoch 27/60\n",
            "31/31 [==============================] - 2s 67ms/step - loss: 0.3460 - accuracy: 0.8786 - val_loss: 0.3413 - val_accuracy: 0.9068\n",
            "Epoch 28/60\n",
            "31/31 [==============================] - 3s 94ms/step - loss: 0.3243 - accuracy: 0.8807 - val_loss: 0.3334 - val_accuracy: 0.9068\n",
            "Epoch 29/60\n",
            "31/31 [==============================] - 2s 69ms/step - loss: 0.3311 - accuracy: 0.8837 - val_loss: 0.3316 - val_accuracy: 0.9193\n",
            "Epoch 30/60\n",
            "31/31 [==============================] - 2s 67ms/step - loss: 0.2843 - accuracy: 0.9002 - val_loss: 0.3146 - val_accuracy: 0.9255\n",
            "Epoch 31/60\n",
            "31/31 [==============================] - 2s 67ms/step - loss: 0.2655 - accuracy: 0.9053 - val_loss: 0.3291 - val_accuracy: 0.9006\n",
            "Epoch 32/60\n",
            "31/31 [==============================] - 2s 66ms/step - loss: 0.2231 - accuracy: 0.9167 - val_loss: 0.3495 - val_accuracy: 0.9068\n",
            "Epoch 33/60\n",
            "31/31 [==============================] - 3s 94ms/step - loss: 0.1915 - accuracy: 0.9352 - val_loss: 0.3866 - val_accuracy: 0.8944\n",
            "Epoch 34/60\n",
            "31/31 [==============================] - 2s 67ms/step - loss: 0.2296 - accuracy: 0.9218 - val_loss: 0.3797 - val_accuracy: 0.9006\n",
            "Epoch 35/60\n",
            "31/31 [==============================] - 2s 68ms/step - loss: 0.2028 - accuracy: 0.9280 - val_loss: 0.7015 - val_accuracy: 0.7826\n",
            "Epoch 36/60\n",
            "31/31 [==============================] - 2s 67ms/step - loss: 0.2194 - accuracy: 0.9259 - val_loss: 0.5769 - val_accuracy: 0.8447\n",
            "Epoch 37/60\n",
            "31/31 [==============================] - 2s 70ms/step - loss: 0.1538 - accuracy: 0.9496 - val_loss: 0.4348 - val_accuracy: 0.8758\n",
            "Epoch 38/60\n",
            "31/31 [==============================] - 3s 84ms/step - loss: 0.1806 - accuracy: 0.9414 - val_loss: 0.6405 - val_accuracy: 0.8323\n",
            "Epoch 39/60\n",
            "31/31 [==============================] - 3s 80ms/step - loss: 0.1659 - accuracy: 0.9393 - val_loss: 0.3391 - val_accuracy: 0.9068\n",
            "Epoch 40/60\n",
            "31/31 [==============================] - 2s 69ms/step - loss: 0.1240 - accuracy: 0.9609 - val_loss: 0.3810 - val_accuracy: 0.8944\n",
            "Epoch 41/60\n",
            "31/31 [==============================] - 2s 69ms/step - loss: 0.1132 - accuracy: 0.9578 - val_loss: 0.4173 - val_accuracy: 0.8820\n",
            "Epoch 42/60\n",
            "31/31 [==============================] - 2s 67ms/step - loss: 0.1411 - accuracy: 0.9486 - val_loss: 0.3295 - val_accuracy: 0.9130\n",
            "Epoch 43/60\n",
            "31/31 [==============================] - 2s 67ms/step - loss: 0.0874 - accuracy: 0.9753 - val_loss: 0.2965 - val_accuracy: 0.9255\n",
            "Epoch 44/60\n",
            "31/31 [==============================] - 3s 86ms/step - loss: 0.0836 - accuracy: 0.9691 - val_loss: 0.3171 - val_accuracy: 0.9130\n",
            "Epoch 45/60\n",
            "31/31 [==============================] - 2s 68ms/step - loss: 0.0957 - accuracy: 0.9691 - val_loss: 0.4461 - val_accuracy: 0.9006\n",
            "Epoch 46/60\n",
            "31/31 [==============================] - 2s 68ms/step - loss: 0.0833 - accuracy: 0.9722 - val_loss: 0.4831 - val_accuracy: 0.8882\n",
            "Epoch 47/60\n",
            "31/31 [==============================] - 2s 64ms/step - loss: 0.1348 - accuracy: 0.9568 - val_loss: 0.4885 - val_accuracy: 0.8571\n",
            "Epoch 48/60\n",
            "31/31 [==============================] - 2s 64ms/step - loss: 0.0981 - accuracy: 0.9671 - val_loss: 0.2748 - val_accuracy: 0.9317\n",
            "Epoch 49/60\n",
            "31/31 [==============================] - 3s 92ms/step - loss: 0.0944 - accuracy: 0.9691 - val_loss: 0.4215 - val_accuracy: 0.8758\n",
            "Epoch 50/60\n",
            "31/31 [==============================] - 2s 62ms/step - loss: 0.1160 - accuracy: 0.9588 - val_loss: 0.3833 - val_accuracy: 0.9193\n",
            "Epoch 51/60\n",
            "31/31 [==============================] - 2s 63ms/step - loss: 0.0939 - accuracy: 0.9702 - val_loss: 0.4976 - val_accuracy: 0.8820\n",
            "Epoch 52/60\n",
            "31/31 [==============================] - 2s 63ms/step - loss: 0.0872 - accuracy: 0.9712 - val_loss: 0.4350 - val_accuracy: 0.8820\n",
            "Epoch 53/60\n",
            "31/31 [==============================] - 2s 65ms/step - loss: 0.0506 - accuracy: 0.9846 - val_loss: 0.4546 - val_accuracy: 0.8944\n",
            "Epoch 54/60\n",
            "31/31 [==============================] - 3s 91ms/step - loss: 0.0292 - accuracy: 0.9907 - val_loss: 0.3350 - val_accuracy: 0.9193\n",
            "Epoch 55/60\n",
            "31/31 [==============================] - 2s 63ms/step - loss: 0.0388 - accuracy: 0.9907 - val_loss: 0.3946 - val_accuracy: 0.9006\n",
            "Epoch 56/60\n",
            "31/31 [==============================] - 2s 64ms/step - loss: 0.0332 - accuracy: 0.9907 - val_loss: 0.4169 - val_accuracy: 0.9006\n",
            "Epoch 57/60\n",
            "31/31 [==============================] - 2s 64ms/step - loss: 0.0157 - accuracy: 0.9969 - val_loss: 0.3736 - val_accuracy: 0.9006\n",
            "Epoch 58/60\n",
            "31/31 [==============================] - 2s 79ms/step - loss: 0.0161 - accuracy: 0.9949 - val_loss: 0.4151 - val_accuracy: 0.8882\n",
            "Epoch 59/60\n",
            "31/31 [==============================] - 2s 75ms/step - loss: 0.0371 - accuracy: 0.9907 - val_loss: 0.3901 - val_accuracy: 0.8944\n",
            "Epoch 60/60\n",
            "31/31 [==============================] - 2s 65ms/step - loss: 0.0270 - accuracy: 0.9938 - val_loss: 0.4519 - val_accuracy: 0.8882\n"
          ]
        }
      ]
    },
    {
      "cell_type": "code",
      "source": [
        "eval_metrics = model.evaluate(testloader)\n",
        "eval_metrics"
      ],
      "metadata": {
        "colab": {
          "base_uri": "https://localhost:8080/"
        },
        "id": "qYDf0NnEF29A",
        "outputId": "67d17915-c913-4775-d2ed-513183a01290"
      },
      "execution_count": null,
      "outputs": [
        {
          "output_type": "stream",
          "name": "stdout",
          "text": [
            "20/20 [==============================] - 1s 23ms/step - loss: 1.1595 - accuracy: 0.7344\n"
          ]
        },
        {
          "output_type": "execute_result",
          "data": {
            "text/plain": [
              "[1.1595041751861572, 0.7344262003898621]"
            ]
          },
          "metadata": {},
          "execution_count": 11
        }
      ]
    },
    {
      "cell_type": "code",
      "source": [
        "import keras\n",
        "from matplotlib import pyplot as plt\n",
        "\n",
        "plt.plot(history.history['accuracy'])\n",
        "plt.plot(history.history['val_accuracy'])\n",
        "plt.title('Model 3 accuracy')\n",
        "plt.ylabel('accuracy')\n",
        "plt.xlabel('epoch')\n",
        "plt.legend(['train', 'val'], loc='upper left')\n",
        "plt.show()"
      ],
      "metadata": {
        "colab": {
          "base_uri": "https://localhost:8080/",
          "height": 472
        },
        "id": "gGzyzRTQG3s0",
        "outputId": "8b85f120-9ea4-4730-c81f-b17081061874"
      },
      "execution_count": null,
      "outputs": [
        {
          "output_type": "display_data",
          "data": {
            "text/plain": [
              "<Figure size 640x480 with 1 Axes>"
            ],
            "image/png": "[encoded data removed]"
          },
          "metadata": {}
        }
      ]
    },
    {
      "cell_type": "code",
      "source": [
        "plt.plot(history.history['loss'])\n",
        "plt.plot(history.history['val_loss'])\n",
        "plt.title('Model 3 loss')\n",
        "plt.ylabel('loss')\n",
        "plt.xlabel('epoch')\n",
        "plt.legend(['train', 'val'], loc='upper left')\n",
        "plt.show()"
      ],
      "metadata": {
        "colab": {
          "base_uri": "https://localhost:8080/",
          "height": 472
        },
        "id": "cuVMgPcLG4H-",
        "outputId": "e2861fbe-fb0d-4a95-b2a5-1392b5e186cd"
      },
      "execution_count": null,
      "outputs": [
        {
          "output_type": "display_data",
          "data": {
            "text/plain": [
              "<Figure size 640x480 with 1 Axes>"
            ],
            "image/png": "[encoded data removed]"
          },
          "metadata": {}
        }
      ]
    },
    {
      "cell_type": "code",
      "source": [
        "NUM_SAMPLES_VIZ = 100\n",
        "testsamples, labels = next(iter(trainloader))\n",
        "testsamples, labels = testsamples[:NUM_SAMPLES_VIZ], labels[:NUM_SAMPLES_VIZ]\n",
        "\n",
        "ground_truths = []\n",
        "preds = []\n",
        "videos = []\n",
        "\n",
        "for step, (x_batch_train, y_batch_train) in enumerate(testloader):\n",
        "\n",
        "# for i, (testsample, label) in enumerate(zip(testsamples, labels)):\n",
        "    # # Generate gif\n",
        "    # with io.BytesIO() as gif:\n",
        "    #     imageio.mimsave(gif, (testsample.numpy() * 255).astype(\"uint8\"), \"GIF\", fps=5)\n",
        "    #     videos.append(gif.getvalue())\n",
        "\n",
        "    # Get model prediction\n",
        "    output = model.predict(x_batch_train)\n",
        "    pred = np.argmax(output, axis=1)\n",
        "\n",
        "    for i in y_batch_train.numpy().astype(\"int\"):\n",
        "        ground_truths.append(i)\n",
        "    # ground_truths.append(y_batch_train.numpy().astype(\"int\"))\n",
        "    for i in pred:\n",
        "        preds.append(i)\n"
      ],
      "metadata": {
        "colab": {
          "base_uri": "https://localhost:8080/"
        },
        "id": "Oyo6SnwTG77i",
        "outputId": "383124db-3d3a-4946-b46e-3e9f8a80169f"
      },
      "execution_count": null,
      "outputs": [
        {
          "output_type": "stream",
          "name": "stdout",
          "text": [
            "4/4 [==============================] - 0s 33ms/step\n",
            "4/4 [==============================] - 0s 32ms/step\n",
            "4/4 [==============================] - 0s 30ms/step\n",
            "4/4 [==============================] - 0s 36ms/step\n",
            "4/4 [==============================] - 0s 31ms/step\n",
            "4/4 [==============================] - 0s 21ms/step\n",
            "1/1 [==============================] - 0s 35ms/step\n"
          ]
        }
      ]
    },
    {
      "cell_type": "code",
      "source": [
        "import numpy as np\n",
        "from sklearn.metrics import confusion_matrix\n",
        "import seaborn as sns\n",
        "import matplotlib.pyplot as plt"
      ],
      "metadata": {
        "id": "8X0BRYfnG8RB"
      },
      "execution_count": null,
      "outputs": []
    },
    {
      "cell_type": "code",
      "source": [
        "from sklearn.metrics import confusion_matrix\n"
      ],
      "metadata": {
        "id": "V84aD2ggG_eE"
      },
      "execution_count": null,
      "outputs": []
    },
    {
      "cell_type": "code",
      "source": [
        "cm=confusion_matrix(ground_truths, preds)\n",
        "#Plot the confusion matrix.\n",
        "sns.heatmap(cm,\n",
        "            annot=True,\n",
        "            fmt='g',)\n",
        "plt.ylabel('Prediction',fontsize=13)\n",
        "plt.xlabel('Actual',fontsize=13) \n",
        "plt.title('Model 1 Confusion Matrix',fontsize=13)\n",
        "plt.show()"
      ],
      "metadata": {
        "colab": {
          "base_uri": "https://localhost:8080/",
          "height": 476
        },
        "id": "EsT_kqaLHA3y",
        "outputId": "515acf7c-ad1d-4900-95f9-e4b499eb8cb8"
      },
      "execution_count": null,
      "outputs": [
        {
          "output_type": "display_data",
          "data": {
            "text/plain": [
              "<Figure size 640x480 with 2 Axes>"
            ],
            "image/png": "[encoded data removed]"
          },
          "metadata": {}
        }
      ]
    },
    {
      "cell_type": "code",
      "source": [
        "print(ground_truths)\n",
        "print(preds)"
      ],
      "metadata": {
        "colab": {
          "base_uri": "https://localhost:8080/"
        },
        "id": "QTsCrSTuHDoJ",
        "outputId": "14191c2d-d981-4509-8d6f-42f96b5ba54b"
      },
      "execution_count": null,
      "outputs": [
        {
          "output_type": "stream",
          "name": "stdout",
          "text": [
            "[10, 2, 3, 4, 9, 7, 5, 2, 4, 3, 0, 2, 3, 8, 5, 5, 1, 10, 1, 10, 9, 0, 9, 5, 8, 9, 1, 5, 7, 5, 10, 4, 1, 3, 1, 3, 8, 7, 3, 5, 1, 1, 4, 3, 0, 4, 3, 3, 0, 4, 4, 5, 9, 3, 10, 0, 10, 2, 1, 9, 1, 3, 4, 9, 8, 1, 8, 1, 7, 2, 4, 10, 9, 2, 5, 8, 5, 9, 0, 8, 0, 4, 4, 9, 1, 2, 2, 3, 10, 2, 0, 5, 1, 4, 0, 2, 2, 5, 3, 2, 10, 6, 5, 5, 5, 1, 0, 0, 4, 7, 2, 8, 3, 10, 10, 4, 10, 10, 3, 2, 5, 5, 3, 0, 9, 9, 1, 1, 10, 0, 6, 3, 9, 1, 4, 1, 7, 1, 3, 1, 8, 1, 10, 3, 2, 1, 9, 2, 5, 7, 5, 9, 1, 3, 2, 1, 10, 5, 8, 10, 4, 2, 5, 0, 1, 4, 0, 4, 2, 5, 2, 4, 2, 2, 1, 6, 4, 10, 1, 3, 10, 5, 8, 3, 3, 9, 6, 4, 1, 4, 3, 4, 10, 0, 4, 3, 3, 4, 5, 5, 4, 3, 6, 9, 2, 3, 2, 9, 5, 0, 10, 9, 3, 9, 5, 9, 0, 3, 6, 10, 10, 4, 10, 2, 9, 2, 0, 5, 2, 6, 5, 1, 5, 3, 2, 10, 2, 2, 4, 6, 1, 4, 0, 0, 4, 4, 1, 7, 4, 5, 10, 2, 4, 9, 3, 2, 3, 10, 5, 10, 8, 0, 5, 1, 6, 3, 6, 10, 9, 9, 4, 7, 2, 1, 10, 0, 8, 3, 5, 5, 5, 0, 1, 2, 2, 0, 8, 5, 6, 0, 3, 1, 10, 3, 9, 7, 9, 5, 10, 1, 0, 2, 9, 9, 1, 1, 0, 5, 3, 5, 10, 10, 6, 0, 3, 7, 2, 3, 10, 5, 6, 2, 2, 10, 1, 9, 1, 9, 3, 2, 9, 8, 2, 4, 0, 1, 5, 3, 6, 6, 4, 2, 10, 2, 10, 4, 1, 4, 3, 1, 0, 10, 8, 2, 4, 2, 10, 9, 10, 4, 3, 9, 4, 10, 5, 2, 0, 0, 0, 9, 7, 10, 0, 2, 5, 6, 1, 4, 10, 2, 9, 5, 2, 3, 1, 6, 10, 2, 5, 5, 2, 10, 6, 3, 10, 9, 4, 9, 10, 4, 5, 2, 4, 1, 8, 9, 4, 1, 2, 4, 2, 0, 10, 10, 9, 5, 4, 4, 10, 10, 2, 1, 1, 9, 0, 2, 6, 9, 4, 1, 0, 0, 0, 0, 2, 9, 0, 9, 4, 1, 4, 0, 5, 3, 4, 6, 7, 4, 5, 3, 4, 0, 1, 7, 0, 9, 4, 5, 10, 5, 6, 5, 5, 5, 9, 5, 4, 2, 2, 3, 0, 5, 1, 1, 10, 0, 10, 10, 5, 10, 5, 8, 0, 7, 0, 9, 2, 9, 10, 9, 5, 0, 1, 0, 1, 9, 4, 10, 3, 9, 1, 6, 3, 1, 4, 2, 10, 0, 4, 9, 7, 4, 0, 1, 0, 0, 0, 2, 9, 0, 6, 9, 3, 3, 3, 3, 0, 1, 10, 7, 6, 0, 4, 2, 3, 2, 0, 2, 9, 9, 1, 10, 5, 4, 9, 9, 2, 10, 2, 10, 3, 6, 10, 9, 5, 2, 5, 10, 9, 0, 0, 7, 0, 9, 9, 2, 7, 1, 3, 3, 1, 6, 0, 10, 9, 0, 9, 9, 4, 1, 0, 3, 6, 3, 1, 9, 1, 9, 8, 9, 8, 0, 7, 3, 0, 1, 10, 5, 0, 6, 8, 3, 5, 9, 1, 7, 10, 3, 4, 3]\n",
            "[10, 2, 3, 3, 1, 7, 5, 2, 4, 3, 0, 2, 3, 8, 5, 5, 9, 10, 1, 10, 2, 0, 9, 5, 8, 10, 3, 10, 7, 5, 10, 4, 9, 3, 1, 3, 8, 7, 3, 5, 1, 4, 3, 4, 0, 3, 3, 3, 0, 4, 4, 5, 10, 3, 10, 9, 10, 2, 1, 9, 9, 4, 4, 9, 8, 9, 8, 5, 7, 2, 3, 10, 2, 2, 5, 8, 5, 9, 5, 8, 9, 4, 4, 10, 9, 2, 4, 4, 10, 2, 0, 5, 1, 4, 0, 9, 10, 5, 3, 2, 9, 6, 5, 10, 5, 1, 0, 0, 4, 7, 2, 8, 3, 10, 10, 4, 10, 10, 3, 2, 0, 5, 4, 0, 9, 2, 2, 1, 10, 0, 6, 3, 9, 1, 4, 1, 7, 4, 3, 1, 8, 1, 10, 4, 10, 1, 10, 2, 5, 7, 5, 1, 10, 3, 2, 1, 10, 3, 8, 10, 4, 5, 5, 0, 1, 4, 0, 4, 2, 5, 1, 4, 2, 1, 1, 6, 4, 9, 1, 3, 2, 5, 8, 3, 3, 10, 6, 4, 1, 9, 4, 4, 10, 0, 4, 3, 3, 3, 5, 2, 10, 3, 6, 1, 9, 3, 1, 9, 5, 0, 3, 9, 3, 10, 9, 9, 0, 3, 7, 5, 10, 4, 10, 1, 9, 2, 0, 5, 10, 6, 5, 2, 5, 3, 1, 9, 2, 2, 4, 6, 1, 4, 0, 9, 4, 4, 1, 7, 3, 5, 10, 2, 4, 9, 3, 2, 4, 10, 3, 10, 8, 0, 5, 2, 6, 3, 8, 10, 9, 9, 4, 7, 4, 1, 10, 0, 8, 3, 5, 5, 1, 0, 1, 10, 2, 0, 8, 5, 6, 0, 10, 10, 10, 3, 2, 7, 0, 5, 10, 1, 0, 2, 9, 9, 1, 10, 0, 5, 3, 5, 10, 10, 10, 0, 4, 2, 2, 3, 10, 4, 6, 2, 9, 4, 1, 9, 1, 4, 3, 1, 10, 8, 2, 9, 0, 1, 10, 3, 0, 6, 4, 2, 10, 10, 10, 4, 1, 4, 3, 1, 10, 5, 8, 2, 3, 2, 10, 9, 5, 4, 3, 4, 10, 10, 10, 10, 0, 0, 0, 9, 7, 10, 9, 10, 4, 6, 1, 4, 10, 2, 9, 5, 9, 3, 1, 6, 10, 9, 5, 5, 2, 10, 7, 3, 10, 2, 4, 9, 10, 4, 5, 2, 4, 9, 8, 10, 4, 9, 9, 4, 2, 0, 10, 10, 5, 5, 4, 10, 10, 10, 2, 1, 1, 9, 0, 1, 6, 9, 4, 1, 0, 9, 0, 9, 2, 9, 0, 9, 3, 10, 4, 0, 10, 4, 4, 6, 7, 4, 5, 10, 4, 0, 10, 7, 9, 9, 5, 5, 10, 5, 9, 5, 1, 5, 2, 5, 4, 2, 4, 4, 0, 5, 2, 3, 10, 0, 10, 10, 5, 10, 5, 8, 0, 7, 9, 5, 2, 9, 2, 9, 5, 0, 1, 0, 1, 9, 4, 10, 3, 9, 10, 6, 3, 1, 4, 2, 10, 9, 4, 9, 7, 4, 9, 1, 9, 0, 0, 3, 4, 6, 0, 9, 3, 3, 4, 3, 0, 1, 10, 7, 10, 0, 3, 2, 3, 2, 0, 2, 10, 9, 2, 10, 5, 4, 1, 9, 2, 10, 2, 5, 4, 9, 10, 4, 2, 1, 3, 10, 10, 0, 9, 7, 9, 9, 9, 10, 7, 2, 3, 4, 1, 0, 0, 10, 10, 0, 10, 9, 4, 1, 0, 3, 6, 3, 1, 10, 5, 9, 8, 9, 8, 0, 7, 3, 0, 1, 10, 5, 0, 6, 8, 4, 5, 9, 1, 7, 10, 4, 4, 3]\n"
          ]
        }
      ]
    },
    {
      "cell_type": "code",
      "source": [],
      "metadata": {
        "id": "PpHfzoFYIKfN"
      },
      "execution_count": null,
      "outputs": []
    }
  ],
  "metadata": {
    "accelerator": "GPU",
    "colab": {
      "provenance": []
    },
    "kernelspec": {
      "display_name": "Python 3",
      "language": "python",
      "name": "python3"
    },
    "language_info": {
      "codemirror_mode": {
        "name": "ipython",
        "version": 3
      },
      "file_extension": ".py",
      "mimetype": "text/x-python",
      "name": "python",
      "nbconvert_exporter": "python",
      "pygments_lexer": "ipython3",
      "version": "3.7.0"
    },
    "gpuClass": "standard"
  },
  "nbformat": 4,
  "nbformat_minor": 0
}